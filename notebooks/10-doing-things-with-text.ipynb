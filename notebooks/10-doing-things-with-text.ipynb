{
 "cells": [
  {
   "cell_type": "code",
   "execution_count": null,
   "metadata": {},
   "outputs": [],
   "source": [
    "### NB: Much of what is included below draws on examples from the \"NLTK Book\" (https://www.nltk.org/book/ch01.html) Steven Bird, Ewan Klein, and Edward Loper. Highly recommended to continue with the kinds of work introduced in the workshop. "
   ]
  },
  {
   "cell_type": "code",
   "execution_count": null,
   "metadata": {},
   "outputs": [],
   "source": [
    "## Imports\n",
    "\n",
    "from cltkreaders.lat import LatinTesseraeCorpusReader\n",
    "from pprint import pprint\n",
    "from natsort import natsorted\n",
    "from latintools import preprocess"
   ]
  },
  {
   "cell_type": "code",
   "execution_count": null,
   "metadata": {},
   "outputs": [],
   "source": [
    "# Setup corpus\n",
    "\n",
    "T = LatinTesseraeCorpusReader()"
   ]
  },
  {
   "cell_type": "code",
   "execution_count": null,
   "metadata": {},
   "outputs": [],
   "source": [
    "# Sample text\n",
    "\n",
    "aeneid = natsorted([file for file in T.fileids() if 'aeneid' in file])\n",
    "aeneid_text = \"\\n\".join([next(T.texts(file, preprocess=preprocess)) for file in aeneid])"
   ]
  },
  {
   "cell_type": "code",
   "execution_count": null,
   "metadata": {},
   "outputs": [],
   "source": [
    "print('Beginning of Aeneid...')\n",
    "print(aeneid_text[:100])\n",
    "\n",
    "print()\n",
    "\n",
    "print('End of Aeneid...')\n",
    "print(aeneid_text[-100:])"
   ]
  },
  {
   "cell_type": "code",
   "execution_count": null,
   "metadata": {},
   "outputs": [],
   "source": [
    "# Make a Text object with NLTK\n",
    "\n",
    "from nltk import Text\n",
    "aeneid_tokens = aeneid_text.split()\n",
    "aeneid_Text = Text(aeneid_tokens)\n",
    "print(aeneid_Text)"
   ]
  },
  {
   "cell_type": "code",
   "execution_count": null,
   "metadata": {},
   "outputs": [],
   "source": [
    "# Check type of Text object\n",
    "\n",
    "type(aeneid_Text)"
   ]
  },
  {
   "cell_type": "code",
   "execution_count": null,
   "metadata": {},
   "outputs": [],
   "source": [
    "# Check methods of Text object\n",
    "\n",
    "pprint(dir(aeneid_Text))"
   ]
  },
  {
   "cell_type": "code",
   "execution_count": null,
   "metadata": {},
   "outputs": [],
   "source": [
    "# Check methods of Text object, again\n",
    "\n",
    "pprint([item for item in dir(aeneid_Text) if not item.startswith('_')])"
   ]
  },
  {
   "cell_type": "code",
   "execution_count": null,
   "metadata": {},
   "outputs": [],
   "source": [
    "# Make a KWIC list\n",
    "\n",
    "concordance = aeneid_Text.concordance('aeneas', width=50, lines=5)\n",
    "concordance"
   ]
  },
  {
   "cell_type": "code",
   "execution_count": null,
   "metadata": {},
   "outputs": [],
   "source": [
    "# Get collocations\n",
    "\n",
    "collocations = aeneid_Text.collocation_list(num=10)\n",
    "\n",
    "for collocation in collocations:\n",
    "    print(' '.join(collocation))"
   ]
  },
  {
   "cell_type": "code",
   "execution_count": null,
   "metadata": {},
   "outputs": [],
   "source": [
    "# Make a dispersion plot\n",
    "\n",
    "displot = aeneid_Text.dispersion_plot(['aeneas', 'dido', 'turnus'])"
   ]
  },
  {
   "cell_type": "code",
   "execution_count": null,
   "metadata": {},
   "outputs": [],
   "source": [
    "# Get tokenized sents\n",
    "\n",
    "tokenized_sents = T.tokenized_sents(aeneid)\n",
    "sample = next(tokenized_sents)\n",
    "print(sample[:5])"
   ]
  },
  {
   "cell_type": "code",
   "execution_count": null,
   "metadata": {},
   "outputs": [],
   "source": [
    "# Get list of lemmas\n",
    "\n",
    "tokenized_sents = T.tokenized_sents(aeneid)\n",
    "\n",
    "all_lemmas = []\n",
    "for sent in tokenized_sents:\n",
    "    for token in sent:\n",
    "        if token[1]:\n",
    "            lemma = preprocess(token[1])\n",
    "            if lemma:\n",
    "                all_lemmas.append(preprocess(token[1], remove_spaces=True))\n",
    "        "
   ]
  },
  {
   "cell_type": "code",
   "execution_count": null,
   "metadata": {},
   "outputs": [],
   "source": [
    "# Make lemmatized Text object\n",
    "\n",
    "aeneid_lemmatized_Text = Text(all_lemmas)"
   ]
  },
  {
   "cell_type": "code",
   "execution_count": null,
   "metadata": {},
   "outputs": [],
   "source": [
    "print(aeneid_lemmatized_Text)"
   ]
  },
  {
   "cell_type": "code",
   "execution_count": null,
   "metadata": {},
   "outputs": [],
   "source": [
    "# Before, unlemmatized\n",
    "\n",
    "displot = aeneid_Text.dispersion_plot(['aeneas', 'dido', 'turnus'])"
   ]
  },
  {
   "cell_type": "code",
   "execution_count": null,
   "metadata": {},
   "outputs": [],
   "source": [
    "# After, lemmatized\n",
    "\n",
    "displot = aeneid_lemmatized_Text.dispersion_plot(['aeneas', 'dido', 'turnus'])"
   ]
  },
  {
   "cell_type": "code",
   "execution_count": null,
   "metadata": {},
   "outputs": [],
   "source": [
    "# Other ideas\n",
    "\n",
    "displot = aeneid_lemmatized_Text.dispersion_plot(['arma', 'uir'])"
   ]
  },
  {
   "cell_type": "code",
   "execution_count": null,
   "metadata": {},
   "outputs": [],
   "source": [
    "# Other ideas\n",
    "\n",
    "displot = aeneid_lemmatized_Text.dispersion_plot(['bonus', 'malus'])"
   ]
  },
  {
   "cell_type": "code",
   "execution_count": null,
   "metadata": {},
   "outputs": [],
   "source": [
    "# Other ideas\n",
    "\n",
    "displot = aeneid_lemmatized_Text.dispersion_plot(['albus', 'ater'])"
   ]
  },
  {
   "cell_type": "code",
   "execution_count": null,
   "metadata": {},
   "outputs": [],
   "source": [
    "# Find similar words\n",
    "\n",
    "similars = aeneid_lemmatized_Text.similar('aeneas', num=10)"
   ]
  },
  {
   "cell_type": "code",
   "execution_count": null,
   "metadata": {},
   "outputs": [],
   "source": [
    "# Find similar words\n",
    "\n",
    "similars = aeneid_lemmatized_Text.similar('pater', num=10)"
   ]
  },
  {
   "cell_type": "code",
   "execution_count": null,
   "metadata": {},
   "outputs": [],
   "source": [
    "# Get frequencies\n",
    "\n",
    "from collections import Counter\n",
    "counts = Counter(aeneid_lemmatized_Text)\n",
    "print(counts.most_common(15))"
   ]
  },
  {
   "cell_type": "code",
   "execution_count": null,
   "metadata": {},
   "outputs": [],
   "source": [
    "# Make \"stops\"\n",
    "\n",
    "stops = [k for k, v in counts.most_common(10)]\n",
    "print(stops)"
   ]
  },
  {
   "cell_type": "code",
   "execution_count": null,
   "metadata": {},
   "outputs": [],
   "source": [
    "# Remove stops\n",
    "\n",
    "stopped_lemmas = [lemma for lemma in all_lemmas if lemma not in stops]\n",
    "aeneid_lemmatized_stopped_Text = Text(stopped_lemmas)"
   ]
  },
  {
   "cell_type": "code",
   "execution_count": null,
   "metadata": {},
   "outputs": [],
   "source": [
    "similars = aeneid_lemmatized_stopped_Text.similar('pater', num=10)"
   ]
  },
  {
   "cell_type": "code",
   "execution_count": null,
   "metadata": {},
   "outputs": [],
   "source": [
    "# Generate text ?!?!\n",
    "\n",
    "print(aeneid_Text.generate(text_seed='aeneas est'.split()))"
   ]
  },
  {
   "cell_type": "code",
   "execution_count": null,
   "metadata": {},
   "outputs": [],
   "source": [
    "# Get frequencies; similar to counter\n",
    "\n",
    "from nltk import FreqDist\n",
    "freqs = FreqDist(aeneid_lemmatized_Text)"
   ]
  },
  {
   "cell_type": "code",
   "execution_count": null,
   "metadata": {},
   "outputs": [],
   "source": [
    "# Plot freqs\n",
    "\n",
    "freqs.plot(50, cumulative=False);"
   ]
  },
  {
   "cell_type": "code",
   "execution_count": null,
   "metadata": {},
   "outputs": [],
   "source": [
    "# Plot freqs, cumulative\n",
    "\n",
    "freqs.plot(50, cumulative=True);"
   ]
  },
  {
   "cell_type": "code",
   "execution_count": null,
   "metadata": {},
   "outputs": [],
   "source": [
    "# Length of Text\n",
    "\n",
    "len(aeneid_lemmatized_Text)"
   ]
  }
 ],
 "metadata": {
  "kernelspec": {
   "display_name": "Python 3.8.12 64-bit ('rostock-workshop')",
   "language": "python",
   "name": "python3"
  },
  "language_info": {
   "codemirror_mode": {
    "name": "ipython",
    "version": 3
   },
   "file_extension": ".py",
   "mimetype": "text/x-python",
   "name": "python",
   "nbconvert_exporter": "python",
   "pygments_lexer": "ipython3",
   "version": "3.10.8"
  },
  "orig_nbformat": 4,
  "vscode": {
   "interpreter": {
    "hash": "271717606410ac57bb3ccde2581fc7e1f6e46ce9d2d102e43e700f6187669d78"
   }
  }
 },
 "nbformat": 4,
 "nbformat_minor": 2
}

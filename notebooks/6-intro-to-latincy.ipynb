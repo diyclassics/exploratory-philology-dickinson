{
 "cells": [
  {
   "attachments": {},
   "cell_type": "markdown",
   "metadata": {},
   "source": [
    "# Demo notebook for LatinCy model `la_core_web_lg`\n",
    "\n",
    "Written by [Patrick J. Burns](https://diyclassics.github.io), May 2023"
   ]
  },
  {
   "cell_type": "code",
   "execution_count": null,
   "metadata": {},
   "outputs": [],
   "source": [
    "# Imports \n",
    "\n",
    "import spacy\n",
    "import pandas as pd\n",
    "import numpy as np\n",
    "from sklearn.manifold import TSNE\n",
    "from spacy import displacy\n",
    "from pprint import pprint"
   ]
  },
  {
   "cell_type": "code",
   "execution_count": null,
   "metadata": {},
   "outputs": [],
   "source": [
    "# Set up spaCy NLP\n",
    "\n",
    "model = 'la_core_web_lg'\n",
    "nlp = spacy.load(model)"
   ]
  },
  {
   "cell_type": "code",
   "execution_count": null,
   "metadata": {},
   "outputs": [],
   "source": [
    "# Get sample text; first story from Ritchie's fables\n",
    "\n",
    "text = \"\"\"Haec narrantur a poetis de Perseo. Perseus filius erat Iovis, maximi deorum; avus eius Acrisius appellabatur. Acrisius volebat Perseum nepotem suum necare; nam propter oraculum puerum timebat. Comprehendit igitur Perseum adhuc infantem, et cum matre in arca lignea inclusit. Tum arcam ipsam in mare coniecit. Danae, Persei mater, magnopere territa est; tempestas enim magna mare turbabat. Perseus autem in sinu matris dormiebat.\"\"\"\n",
    "\n",
    "text =  text.replace(\"v\",\"u\").replace(\"V\",\"U\")"
   ]
  },
  {
   "cell_type": "code",
   "execution_count": null,
   "metadata": {},
   "outputs": [],
   "source": [
    "# Create spacy Doc object\n",
    "\n",
    "doc = nlp(text)"
   ]
  },
  {
   "cell_type": "code",
   "execution_count": null,
   "metadata": {},
   "outputs": [],
   "source": [
    "# Helper function\n",
    "def enumerate_print(l):\n",
    "    for i, x in enumerate(l, 1):\n",
    "        print(f\"{i}: {x}\")"
   ]
  },
  {
   "cell_type": "code",
   "execution_count": null,
   "metadata": {},
   "outputs": [],
   "source": [
    "# Get sentences from text\n",
    "\n",
    "sents = doc.sents\n",
    "\n",
    "enumerate_print(sents)"
   ]
  },
  {
   "cell_type": "code",
   "execution_count": null,
   "metadata": {},
   "outputs": [],
   "source": [
    "# Get tokens from text\n",
    "\n",
    "for token in doc:\n",
    "    print(token)\n",
    "    print(type(token))\n",
    "    print([item for item in dir(token) if not item.startswith(\"_\")])\n",
    "    break"
   ]
  },
  {
   "cell_type": "code",
   "execution_count": null,
   "metadata": {},
   "outputs": [],
   "source": [
    "# Make dataframe with token attributes\n",
    "\n",
    "data = []\n",
    "\n",
    "for token in doc[:25]:\n",
    "    data.append(\n",
    "        [\n",
    "            token.text,\n",
    "            token.norm_,\n",
    "            token.lower_,\n",
    "            token.lemma_,\n",
    "            token.pos_,\n",
    "            token.tag_,\n",
    "            token.dep_,\n",
    "            token.has_vector,\n",
    "            token.morph,\n",
    "            token.ent_type_,\n",
    "            token.text in nlp.vocab,\n",
    "            token.is_oov,\n",
    "        ]\n",
    "    )\n",
    "\n",
    "df = pd.DataFrame(\n",
    "    data,\n",
    "    columns=[\n",
    "        \"text\",\n",
    "        \"norm\",\n",
    "        \"lower\",\n",
    "        \"lemma\",\n",
    "        \"pos\",\n",
    "        \"tag\",\n",
    "        \"dep\",\n",
    "        \"has_vector\",\n",
    "        \"morph\",\n",
    "        \"ent_type\",\n",
    "        \"in_vocab\",\n",
    "        \"is_oov\",\n",
    "    ],\n",
    ")\n",
    "\n",
    "df"
   ]
  },
  {
   "cell_type": "code",
   "execution_count": null,
   "metadata": {},
   "outputs": [],
   "source": [
    "# Show dependency parse for sample sentence\n",
    "\n",
    "text = \"\"\"Iason et Medea e Thessalia expulsi ad urbem Corinthum venerunt.\"\"\"\n",
    "text =  text.replace(\"v\",\"u\").replace(\"V\",\"U\")\n",
    "\n",
    "sents = nlp(text).sents\n",
    "\n",
    "for sent in sents:\n",
    "    print(f'spaCy dependecy parse for \"{sent}\"')\n",
    "    displacy.render(sent, style=\"dep\", jupyter=True)\n",
    "    break"
   ]
  },
  {
   "cell_type": "code",
   "execution_count": null,
   "metadata": {},
   "outputs": [],
   "source": [
    "# Noun chunks\n",
    "\n",
    "text = \"Turpe est hanc ignavam vitam agere; iam dudum tu adulescens es. Quo usque hic manebis? Tempus est arma capere et virtutem praestare. Hinc abi, et caput Medusae mihi refer.\"\n",
    "selection = nlp(text)\n",
    "\n",
    "selection.spans['NP'] = []\n",
    "for chunk in selection.noun_chunks:\n",
    "    if len(chunk) > 1:\n",
    "        selection.spans['NP'].append(chunk)\n",
    "\n",
    "colors = {'NP': '#85C1E9'}\n",
    "options = {'spans_key': 'NP', 'colors': colors}\n",
    "displacy.render(selection, style=\"span\", jupyter=True, options=options)"
   ]
  },
  {
   "cell_type": "code",
   "execution_count": null,
   "metadata": {},
   "outputs": [],
   "source": [
    "# Named entities\n",
    "\n",
    "text = \"\"\"Iason et Medea e Thessalia expulsi ad urbem Corinthum venerunt.\"\"\"\n",
    "text =  text.replace(\"v\",\"u\").replace(\"V\",\"U\")\n",
    "\n",
    "doc = nlp(text)\n",
    "\n",
    "print(f'spaCy dependecy parse for \"{sent}\"')\n",
    "displacy.render(doc, style=\"ent\", jupyter=True)"
   ]
  },
  {
   "cell_type": "code",
   "execution_count": null,
   "metadata": {},
   "outputs": [],
   "source": [
    "# Plot proper_noun vectors with TSNE based on Ritchie's fables\n",
    "\n",
    "with open('ritchies.txt', 'r') as f:\n",
    "    contents = f.readlines()\n",
    "    text = \" \".join([line.strip() for line in contents if line.strip() and not line.startswith('#')])\n",
    "    doc = nlp(text)"
   ]
  },
  {
   "cell_type": "code",
   "execution_count": null,
   "metadata": {},
   "outputs": [],
   "source": [
    "# Clearer with fewer elements; so only proper_nouns; extract vectors for text\n",
    "\n",
    "vector_dict = {}\n",
    "\n",
    "for item in doc:\n",
    "    if item.tag_ == \"proper_noun\":\n",
    "        vector_dict[item.norm_] = item.vector\n",
    "        \n",
    "words = list(vector_dict.keys())\n",
    "vecs = list(vector_dict.values())"
   ]
  },
  {
   "cell_type": "code",
   "execution_count": null,
   "metadata": {},
   "outputs": [],
   "source": [
    "# Reduce vectors to 2D with TSNE; make dataframe\n",
    "\n",
    "tsne = TSNE(n_components=2, perplexity=3, init='pca', random_state=42)\n",
    "reduced_vecs = tsne.fit_transform(np.asarray(vecs))\n",
    "df = pd.DataFrame(reduced_vecs, index=words, columns=['x', 'y'])\n",
    "df['word'] = df.index"
   ]
  },
  {
   "cell_type": "code",
   "execution_count": null,
   "metadata": {},
   "outputs": [],
   "source": [
    "# Plot TSNE\n",
    "\n",
    "ax = df.plot(kind='scatter', x='x', y='y', figsize=(15, 15), title=\"TSNE lat_core_web_lg vectors for proper nouns in Ritchie's Fables\")\n",
    "\n",
    "for idx, row in df.iterrows():\n",
    "    ax.annotate(row['word'], (row['x'], row['y']))"
   ]
  }
 ],
 "metadata": {
  "kernelspec": {
   "display_name": "latin-spacy-dev",
   "language": "python",
   "name": "python3"
  },
  "language_info": {
   "codemirror_mode": {
    "name": "ipython",
    "version": 3
   },
   "file_extension": ".py",
   "mimetype": "text/x-python",
   "name": "python",
   "nbconvert_exporter": "python",
   "pygments_lexer": "ipython3",
   "version": "3.10.8"
  },
  "orig_nbformat": 4
 },
 "nbformat": 4,
 "nbformat_minor": 2
}

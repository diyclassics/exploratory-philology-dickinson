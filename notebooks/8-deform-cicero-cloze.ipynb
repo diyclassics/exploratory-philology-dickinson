{
 "cells": [
  {
   "attachments": {},
   "cell_type": "markdown",
   "metadata": {},
   "source": [
    "# Describe: Creating 'cloze' exercises with Cicero"
   ]
  },
  {
   "attachments": {},
   "cell_type": "markdown",
   "metadata": {},
   "source": [
    "## Devise\n",
    "\n"
   ]
  },
  {
   "attachments": {},
   "cell_type": "markdown",
   "metadata": {},
   "source": [
    "## Plan\n",
    "\n",
    "As always, let's plan out our work before we start writing Python code. We will use the following steps to create our cloze exercises:\n",
    "\n",
    "**Pseudocode for Cicerorian 'cloze' exercises**\n",
    "\n",
    "- Load our library of Latin texts, keeping only those by Cicero\n",
    "- Create a list of sentences from which we can draw our exercises, keeping them at a certain length (~10-25 words)\n",
    "- Pick a sentence at random\n",
    "- Pick a word at random to mask\n",
    "- Create a set of multiple-choice answers, i.e. three random words in addition to the removed word\n",
    "- Ask user for input to test whether the removed word can be correctly identified"
   ]
  },
  {
   "attachments": {},
   "cell_type": "markdown",
   "metadata": {},
   "source": [
    "## Code"
   ]
  },
  {
   "cell_type": "code",
   "execution_count": 1,
   "metadata": {},
   "outputs": [],
   "source": [
    "# Preliminary imports\n",
    "from natsort import natsorted\n",
    "from pprint import pprint\n",
    "from time import sleep"
   ]
  },
  {
   "attachments": {},
   "cell_type": "markdown",
   "metadata": {},
   "source": [
    "As always, let's set up our corpus reader and pull out the texts we want to describe."
   ]
  },
  {
   "cell_type": "code",
   "execution_count": 28,
   "metadata": {},
   "outputs": [
    {
     "name": "stdout",
     "output_type": "stream",
     "text": [
      "['cicero.de_finibus_bonorum_et_malorum.part.1.tess',\n",
      " 'cicero.de_finibus_bonorum_et_malorum.part.2.tess',\n",
      " 'cicero.de_finibus_bonorum_et_malorum.part.3.tess',\n",
      " 'cicero.de_finibus_bonorum_et_malorum.part.4.tess',\n",
      " 'cicero.de_finibus_bonorum_et_malorum.part.5.tess']\n"
     ]
    }
   ],
   "source": [
    "# PC 1: Load our library of Latin texts, keeping only those by Cicero\n",
    "\n",
    "from cltkreaders.lat import LatinTesseraeCorpusReader\n",
    "\n",
    "T = LatinTesseraeCorpusReader()\n",
    "\n",
    "cicero = natsorted([fileid for fileid in T.fileids() if 'de_finibus' in fileid])\n",
    "pprint(cicero[:10])"
   ]
  },
  {
   "cell_type": "code",
   "execution_count": 37,
   "metadata": {},
   "outputs": [],
   "source": [
    "# PC 2a: Create a list of sentences from which we can draw our exercises\n",
    "\n",
    "sents = list(T.sents(fileids=cicero))"
   ]
  },
  {
   "cell_type": "code",
   "execution_count": 38,
   "metadata": {},
   "outputs": [
    {
     "name": "stdout",
     "output_type": "stream",
     "text": [
      "1: Non eram nescius, Brute, cum, quae summis ingeniis exquisitaque doctrina philosophi Graeco sermone tractavissent, ea Latinis litteris mandaremus, fore ut hic noster labor in varias reprehensiones incurreret.\n",
      "2: nam quibusdam, et iis quidem non admodum indoctis, totum hoc displicet philosophari.\n",
      "3: quidam autem non tam id reprehendunt, si remissius agatur, sed tantum studium tamque multam operam ponendam in eo non arbitrantur.\n",
      "4: erunt etiam, et ii quidem eruditi Graecis litteris, contemnentes Latinas, qui se dicant in Graecis legendis operam malle consumere.\n",
      "5: postremo aliquos futuros suspicor, qui me ad alias litteras vocent, genus hoc scribendi, etsi sit elegans, personae tamen et dignitatis esse negent.\n",
      "6: contra quos omnis dicendum breviter existimo.\n",
      "7: Quamquam philosophiae quidem vituperatoribus satis responsum est eo libro, quo a nobis philosophia defensa et collaudata est, cum esset accusata et vituperata ab Hortensio.\n",
      "8: qui liber cum et tibi probatus videretur et iis, quos ego posse iudicare arbitrarer, plura suscepi veritus ne movere hominum studia viderer, retinere non posse.\n",
      "9: Qui autem, si maxime hoc placeat, moderatius tamen id volunt fieri, difficilem quandam temperantiam postulant in eo, quod semel admissum coe+rceri reprimique non potest, ut propemodum iustioribus utamur illis, qui omnino avocent a philosophia, quam his, qui rebus infinitis modum constituant in reque eo meliore, quo maior sit, mediocritatem desiderent.\n",
      "10: sive enim ad sapientiam perveniri potest, non paranda nobis solum ea, sed fruenda etiam sapientia est;\n"
     ]
    }
   ],
   "source": [
    "# Show example sentences\n",
    "\n",
    "for i, sent in enumerate(sents[:10], 1):\n",
    "    print(f'{i}: {sent}')"
   ]
  },
  {
   "cell_type": "code",
   "execution_count": 39,
   "metadata": {},
   "outputs": [
    {
     "name": "stdout",
     "output_type": "stream",
     "text": [
      "2512\n"
     ]
    }
   ],
   "source": [
    "print(len(sents))"
   ]
  },
  {
   "cell_type": "code",
   "execution_count": 40,
   "metadata": {},
   "outputs": [
    {
     "name": "stdout",
     "output_type": "stream",
     "text": [
      "1: nam quibusdam, et iis quidem non admodum indoctis, totum hoc displicet philosophari. \n",
      "2: quidam autem non tam id reprehendunt, si remissius agatur, sed tantum studium tamque multam operam ponendam in eo non arbitrantur. \n",
      "3: erunt etiam, et ii quidem eruditi Graecis litteris, contemnentes Latinas, qui se dicant in Graecis legendis operam malle consumere. \n",
      "4: sive enim ad sapientiam perveniri potest, non paranda nobis solum ea, sed fruenda etiam sapientia est; \n",
      "5: Iis igitur est difficilius satis facere, qui se Latina scripta dicunt contemnere. \n",
      "6: Synephebos ego, inquit, potius Caecilii aut Andriam Terentii quam utramque Menandri legam? \n",
      "7: 'ferreum scriptorem', verum, opinor, scriptorem tamen, ut legendus sit. \n",
      "8: rudem enim esse omnino in nostris poe+tis aut inertissimae segnitiae est aut fastidii delicatissimi. \n",
      "9: mihi quidem nulli satis eruditi videntur, quibus nostra ignota sunt. \n",
      "10: nam si dicent ab illis has res esse tractatas, ne ipsos quidem Graecos est cur tam multos legant, quam legendi sunt. \n"
     ]
    }
   ],
   "source": [
    "sents = [sent.as_doc() for sent in sents if len(sent) > 10 and len(sent) < 25]\n",
    "for i, sent in enumerate(sents[:10], 1):\n",
    "    print(f'{i}: {sent}')"
   ]
  },
  {
   "attachments": {},
   "cell_type": "markdown",
   "metadata": {},
   "source": [
    "This process of loading these sentences into memory takes 15 seconds on my machine. To load all of the sentences from the Cicero files would take even longer. When we find outselves in a situation like this it can often be a huge timesaver to write these kinds of computation-intensive results to disk for quick retrieval later. Here is an example of \"pickling\" the sentences we just loaded so they can be loaded from disk as opposed to reprocessed. "
   ]
  },
  {
   "cell_type": "code",
   "execution_count": 41,
   "metadata": {},
   "outputs": [],
   "source": [
    "import pickle\n",
    "\n",
    "sents = [sent for sent in sents] # Convert to strings\n",
    "pickle.dump(sents, open('../data/cicero-sents.pickle', 'wb'))"
   ]
  },
  {
   "cell_type": "code",
   "execution_count": 50,
   "metadata": {},
   "outputs": [
    {
     "data": {
      "text/plain": [
       "nam quibusdam, et iis quidem non admodum indoctis, totum hoc displicet philosophari. "
      ]
     },
     "execution_count": 50,
     "metadata": {},
     "output_type": "execute_result"
    }
   ],
   "source": [
    "sents = pickle.load(open('../data/cicero-sents.pickle', 'rb'))\n",
    "sents[0]"
   ]
  },
  {
   "cell_type": "code",
   "execution_count": null,
   "metadata": {},
   "outputs": [],
   "source": []
  },
  {
   "cell_type": "code",
   "execution_count": 56,
   "metadata": {},
   "outputs": [
    {
     "data": {
      "text/plain": [
       "A primo, ut opinor, animantium ortu petitur origo summi boni. "
      ]
     },
     "execution_count": 56,
     "metadata": {},
     "output_type": "execute_result"
    }
   ],
   "source": [
    "# PC 3: Pick a sentence at random\n",
    "\n",
    "import random\n",
    "random.seed(42)\n",
    "\n",
    "exercise = random.choice(sents)\n",
    "exercise"
   ]
  },
  {
   "cell_type": "code",
   "execution_count": 59,
   "metadata": {},
   "outputs": [],
   "source": [
    "# PC 4: Pick a word at random to mask"
   ]
  },
  {
   "cell_type": "code",
   "execution_count": 61,
   "metadata": {},
   "outputs": [
    {
     "name": "stdout",
     "output_type": "stream",
     "text": [
      "0: A\n",
      "1: primo\n",
      "2: ,\n",
      "3: ut\n",
      "4: opinor\n",
      "5: ,\n",
      "6: animantium\n",
      "7: ortu\n",
      "8: petitur\n",
      "9: origo\n",
      "10: summi\n",
      "11: boni\n",
      "12: .\n"
     ]
    }
   ],
   "source": [
    "for i, token in enumerate(exercise):\n",
    "    print(f'{i}: {token}')"
   ]
  },
  {
   "cell_type": "code",
   "execution_count": 63,
   "metadata": {},
   "outputs": [
    {
     "name": "stdout",
     "output_type": "stream",
     "text": [
      "0: A\n",
      "1: primo\n",
      "2: ,\n",
      "3: ut\n",
      "4: opinor\n",
      "5: ,\n",
      "6: animantium\n",
      "7: ortu\n",
      "8: petitur\n",
      "9: origo\n",
      "10: summi\n",
      "11: boni\n",
      "12: .\n"
     ]
    }
   ],
   "source": [
    "for token in exercise:\n",
    "    print(f'{token.i}: {token.text}')"
   ]
  },
  {
   "cell_type": "code",
   "execution_count": 66,
   "metadata": {},
   "outputs": [
    {
     "name": "stdout",
     "output_type": "stream",
     "text": [
      "0: True\n",
      "1: True\n",
      "2: False\n",
      "3: True\n",
      "4: True\n",
      "5: False\n",
      "6: True\n",
      "7: True\n",
      "8: True\n",
      "9: True\n",
      "10: True\n",
      "11: True\n",
      "12: False\n"
     ]
    }
   ],
   "source": [
    "for token in exercise:\n",
    "    print(f'{token.i}: {token.is_alpha}')"
   ]
  },
  {
   "cell_type": "code",
   "execution_count": 67,
   "metadata": {},
   "outputs": [],
   "source": [
    "remove_options = [token.i for token in exercise if token.is_alpha]"
   ]
  },
  {
   "cell_type": "code",
   "execution_count": 125,
   "metadata": {},
   "outputs": [
    {
     "data": {
      "text/plain": [
       "3"
      ]
     },
     "execution_count": 125,
     "metadata": {},
     "output_type": "execute_result"
    }
   ],
   "source": [
    "random.seed(1)\n",
    "remove_choice = random.choice(remove_options)\n",
    "remove_choice"
   ]
  },
  {
   "cell_type": "code",
   "execution_count": 126,
   "metadata": {},
   "outputs": [],
   "source": [
    "cloze = ' '.join([token.text if token.i != remove_choice else '_____' for token in exercise])"
   ]
  },
  {
   "cell_type": "code",
   "execution_count": 127,
   "metadata": {},
   "outputs": [
    {
     "data": {
      "text/plain": [
       "'A primo , _____ opinor , animantium ortu petitur origo summi boni .'"
      ]
     },
     "execution_count": 127,
     "metadata": {},
     "output_type": "execute_result"
    }
   ],
   "source": [
    "cloze"
   ]
  },
  {
   "cell_type": "code",
   "execution_count": 80,
   "metadata": {},
   "outputs": [
    {
     "data": {
      "text/plain": [
       "'ut'"
      ]
     },
     "execution_count": 80,
     "metadata": {},
     "output_type": "execute_result"
    }
   ],
   "source": [
    "answer = exercise[remove_choice].text\n",
    "answer"
   ]
  },
  {
   "cell_type": "code",
   "execution_count": 82,
   "metadata": {},
   "outputs": [],
   "source": [
    "# PC 5: Create a set of multiple-choice answers, i.e. three random words in addition to the removed word"
   ]
  },
  {
   "cell_type": "code",
   "execution_count": 93,
   "metadata": {},
   "outputs": [],
   "source": [
    "vocab = set([word.text for sent in sents for word in sent])"
   ]
  },
  {
   "cell_type": "code",
   "execution_count": 101,
   "metadata": {},
   "outputs": [
    {
     "data": {
      "text/plain": [
       "['futura', 'mercede', 'Principio']"
      ]
     },
     "execution_count": 101,
     "metadata": {},
     "output_type": "execute_result"
    }
   ],
   "source": [
    "random.seed(42)\n",
    "wrong_answers = random.sample(list(vocab - {answer}), 3)\n",
    "wrong_answers"
   ]
  },
  {
   "cell_type": "code",
   "execution_count": 105,
   "metadata": {},
   "outputs": [
    {
     "name": "stdout",
     "output_type": "stream",
     "text": [
      "{'A primo , _____ opinor , animantium ortu petitur origo summi boni .': ['ut',\n",
      "                                                                         'futura',\n",
      "                                                                         'mercede',\n",
      "                                                                         'Principio']}\n"
     ]
    }
   ],
   "source": [
    "# PC 6: Ask user for input to test whether the removed word can be correctly identified\n",
    "\n",
    "quiz = {cloze: [answer] + wrong_answers}\n",
    "pprint(quiz)"
   ]
  },
  {
   "cell_type": "code",
   "execution_count": 113,
   "metadata": {},
   "outputs": [
    {
     "name": "stdout",
     "output_type": "stream",
     "text": [
      "  - Principio\n",
      "  - futura\n",
      "  - mercede\n",
      "  - ut\n",
      "\n",
      "Correct!\n"
     ]
    }
   ],
   "source": [
    "for question, alternatives in quiz.items():\n",
    "    correct_answer = alternatives[0]\n",
    "    for alternative in sorted(alternatives):\n",
    "        print(f\"  - {alternative}\")\n",
    "    print()\n",
    "    \n",
    "    answer = input(f\"{question}? \")\n",
    "    if answer == correct_answer:\n",
    "        print(\"Correct!\")\n",
    "    else:\n",
    "        print(f\"Incorrect! The answer is {correct_answer}\")"
   ]
  },
  {
   "cell_type": "code",
   "execution_count": 134,
   "metadata": {},
   "outputs": [],
   "source": [
    "def create_cloze_qa_bank(sents, vocab, n=10):\n",
    "    sents = random.sample(sents, n)\n",
    "    cloze_qa_bank = {}\n",
    "    for sent in sents:\n",
    "        remove_options = [token.i for token in sent if token.is_alpha]\n",
    "        remove_choice = random.choice(remove_options)\n",
    "        cloze = ' '.join([token.text if token.i != remove_choice else '_____' for token in sent])\n",
    "        answer = sent[remove_choice].text\n",
    "        wrong_answers = random.sample(list(vocab - {answer}), 3)\n",
    "        cloze_qa_bank[cloze] = [answer] + wrong_answers\n",
    "    return cloze_qa_bank"
   ]
  },
  {
   "cell_type": "code",
   "execution_count": 136,
   "metadata": {},
   "outputs": [
    {
     "name": "stdout",
     "output_type": "stream",
     "text": [
      "  - angoribus\n",
      "  - malitias\n",
      "  - mediocrem\n",
      "  - quid\n",
      "\n",
      "Correct!\n",
      "  - Democritum\n",
      "  - curet\n",
      "  - patronusne\n",
      "  - profecto\n",
      "\n",
      "Correct!\n",
      "  - Postumius\n",
      "  - in\n",
      "  - novi\n",
      "  - velles\n",
      "\n",
      "Correct!\n",
      "  - aliis\n",
      "  - laudem\n",
      "  - posui\n",
      "  - tota\n",
      "\n",
      "Incorrect! The answer is posui\n",
      "  - ageremus\n",
      "  - illa\n",
      "  - interest\n",
      "  - multitudinem\n",
      "\n",
      "Correct!\n",
      "  - comem\n",
      "  - fortitudinis\n",
      "  - nec\n",
      "  - re\n",
      "\n",
      "Correct!\n",
      "  - accessit\n",
      "  - egens\n",
      "  - in\n",
      "  - meminisse\n",
      "\n",
      "Correct!\n",
      "  - describit\n",
      "  - pertinenti\n",
      "  - quoniam\n",
      "  - saxum\n",
      "\n",
      "Correct!\n",
      "  - effectum\n",
      "  - profuso\n",
      "  - quo\n",
      "  - sese\n",
      "\n",
      "Correct!\n",
      "  - aeternum\n",
      "  - delectantur\n",
      "  - enim\n",
      "  - mori\n",
      "\n",
      "Incorrect! The answer is enim\n"
     ]
    }
   ],
   "source": [
    "quiz = create_cloze_qa_bank(sents, vocab, n=10)\n",
    "\n",
    "for question, alternatives in quiz.items():\n",
    "    correct_answer = alternatives[0]\n",
    "    for alternative in sorted(alternatives):\n",
    "        print(f\"  - {alternative}\")\n",
    "    print()\n",
    "    \n",
    "    answer = input(f\"{question}? \")\n",
    "    if answer == correct_answer:\n",
    "        print(\"Correct!\")\n",
    "    else:\n",
    "        print(f\"Incorrect! The answer is {correct_answer}\")\n",
    "    print()"
   ]
  },
  {
   "attachments": {},
   "cell_type": "markdown",
   "metadata": {},
   "source": [
    "TK"
   ]
  },
  {
   "attachments": {},
   "cell_type": "markdown",
   "metadata": {},
   "source": [
    "## Explore"
   ]
  },
  {
   "attachments": {},
   "cell_type": "markdown",
   "metadata": {},
   "source": [
    "### Next steps\n",
    "\n",
    "- ***Change author***: It is becoming a pattern! But that is because this is where exploration lies for us, at least in the early stages. Experiment with sentences from authors other than Cicero, or the works of Cicero that we have not yet looked at. \n",
    "- ***Change objective***: Try inserting a random word into a sentence and seeing if the user can identify the errant addition. Try scrambling the letters of one or more words (all?) in a sentence. Get the part of speech of masked words and ask the user for madlib style insertions. This is a Deform experiment—feel free to manipulate the text in any way you see fit.\n",
    "\n",
    "### For the future\n",
    "\n",
    "- - ***Consider the multiple choice***: Right now we are inserting random words from Cicero's vocabulary into the multiple choice. There are more principled ways of going about this process though. It may already have been clear from previous examples that "
   ]
  },
  {
   "attachments": {},
   "cell_type": "markdown",
   "metadata": {},
   "source": [
    "## Further Reading\n",
    "- Jacques André. 1949. *Étude sur les termes de couleur dans la langue latine*. Paris: Librairie C. Klincksieck.\n",
    "- Bramble, J.C. 1983. “Lucan.” In Kenney, E.J. ed. *Cambridge History Latin Literature: The Early Principate*. Cambridge: Cambridge University Press. 533–57.\n",
    "- Bradley, M. 2009. *Colour and Meaning in Ancient Rome*. Cambridge Classical Studies. Cambridge: Cambridge University Press.\n",
    "- Gries, S.T. 2016. Quantitative Corpus Linguistics with R: A Practical Introduction. 2nd ed. New York: Routledge. doi:10.4324/9781315746210. Spec. Ch. 2.2 on \"frequency lists\"."
   ]
  }
 ],
 "metadata": {
  "kernelspec": {
   "display_name": "Python 3.10.8 64-bit ('exploratory-philology')",
   "language": "python",
   "name": "python3"
  },
  "language_info": {
   "codemirror_mode": {
    "name": "ipython",
    "version": 3
   },
   "file_extension": ".py",
   "mimetype": "text/x-python",
   "name": "python",
   "nbconvert_exporter": "python",
   "pygments_lexer": "ipython3",
   "version": "3.10.8"
  },
  "vscode": {
   "interpreter": {
    "hash": "90f29fce041a746dff5b4e7dc43fcbd6facb181eb5d3b96918a0244a9c00c3c6"
   }
  }
 },
 "nbformat": 4,
 "nbformat_minor": 2
}

{
 "cells": [
  {
   "cell_type": "code",
   "execution_count": null,
   "metadata": {},
   "outputs": [],
   "source": [
    "# Imports\n",
    "\n",
    "from cltkreaders.lat import LatinTesseraeCorpusReader\n",
    "from collections import defaultdict\n",
    "from pprint import pprint\n",
    "import pickle\n",
    "\n",
    "# Imports; for plotting\n",
    "\n",
    "import seaborn as sns\n",
    "import matplotlib.pyplot as plt\n",
    "pal = sns.color_palette(\"colorblind\")"
   ]
  },
  {
   "cell_type": "code",
   "execution_count": null,
   "metadata": {},
   "outputs": [],
   "source": [
    "# Setup corpus\n",
    "\n",
    "T = LatinTesseraeCorpusReader()\n",
    "\n",
    "print(f'There are {len(T.fileids())} files in this corpus.\\n')\n",
    "print(f'Here are the first five (5) files: {T.fileids()[:5]}')"
   ]
  },
  {
   "cell_type": "code",
   "execution_count": null,
   "metadata": {},
   "outputs": [],
   "source": [
    "# Collect matches in all texts\n",
    "\n",
    "orbis_counts = defaultdict(int)\n",
    "\n",
    "for file in T.fileids():\n",
    "    lines = next(T.doc_rows(file))\n",
    "    lines = list(lines.items())\n",
    "    for citation, line in lines:\n",
    "        if 'orbis' in line:\n",
    "            orbis_counts[file] += 1\n",
    "        else:\n",
    "            orbis_counts[file] += 0\n",
    "\n",
    "pprint(f'The first five (5) files are {T.fileids()[:5]}.')\n",
    "print()\n",
    "print(f'The first five (5) orbis counts are {list(orbis_counts.values())[:5]}.')"
   ]
  },
  {
   "cell_type": "code",
   "execution_count": null,
   "metadata": {},
   "outputs": [],
   "source": [
    "# Collect matches in all texts\n",
    "\n",
    "et_counts = defaultdict(int)\n",
    "\n",
    "for file in T.fileids():\n",
    "    lines = next(T.doc_rows(file))\n",
    "    lines = list(lines.items())\n",
    "    for citation, line in lines:\n",
    "        if 'et' in line:\n",
    "            et_counts[file] += 1\n",
    "        else:\n",
    "            et_counts[file] += 0\n",
    "\n",
    "print(f'The first five (5) et counts are {list(et_counts.values())[:5]}.')"
   ]
  },
  {
   "cell_type": "code",
   "execution_count": null,
   "metadata": {},
   "outputs": [],
   "source": [
    "# Get word counts for all texts\n",
    "\n",
    "word_counts = pickle.load(open('../data/latin_word_counts.pickle', 'rb'))\n",
    "\n",
    "print(f'The first five (5) word counts are {list(word_counts.values())[:5]}.')"
   ]
  },
  {
   "cell_type": "code",
   "execution_count": null,
   "metadata": {},
   "outputs": [],
   "source": [
    "# Normalize counts\n",
    "\n",
    "orbis_norm_counts = defaultdict(float)\n",
    "\n",
    "for i, item in enumerate(orbis_counts.items()):\n",
    "    text = item[0]\n",
    "    orbis_count = item[1]\n",
    "    word_count = list(word_counts.values())[i]\n",
    "    norm_count = (orbis_count / word_count) * 1000\n",
    "    orbis_norm_counts[text] = norm_count\n",
    "\n",
    "list(orbis_norm_counts.items())[:5]    "
   ]
  },
  {
   "cell_type": "code",
   "execution_count": null,
   "metadata": {},
   "outputs": [],
   "source": [
    "# Make bar plot of normalized data\n",
    "\n",
    "orbis_norm_counts_sorted = dict(sorted(list(orbis_norm_counts.items()), key=lambda x: x[1], reverse=True)[:10])\n",
    "keys = list(orbis_norm_counts_sorted.keys())\n",
    "vals = list(orbis_norm_counts_sorted.values())\n",
    "\n",
    "plt.figure(figsize=(32, 8))\n",
    "ax = sns.barplot(x=keys, y=vals, palette=pal);\n",
    "plt.title('orbis normalized counts in Latin Tesserae', fontsize=36)\n",
    "plt.xlabel('Works', fontsize=24)\n",
    "plt.ylabel('Count per 1000 words', fontsize=24)\n",
    "\n",
    "ax.set_xticklabels(labels=keys, rotation=45, horizontalalignment='right', fontsize=18);\n",
    "# ax.set_yticks(range(0, max(vals), 2))\n",
    "plt.show()"
   ]
  }
 ],
 "metadata": {
  "kernelspec": {
   "display_name": "Python 3.8.12 64-bit ('rostock-workshop')",
   "language": "python",
   "name": "python3"
  },
  "language_info": {
   "codemirror_mode": {
    "name": "ipython",
    "version": 3
   },
   "file_extension": ".py",
   "mimetype": "text/x-python",
   "name": "python",
   "nbconvert_exporter": "python",
   "pygments_lexer": "ipython3",
   "version": "3.10.8"
  },
  "orig_nbformat": 4,
  "vscode": {
   "interpreter": {
    "hash": "271717606410ac57bb3ccde2581fc7e1f6e46ce9d2d102e43e700f6187669d78"
   }
  }
 },
 "nbformat": 4,
 "nbformat_minor": 2
}

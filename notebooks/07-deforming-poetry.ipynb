{
 "cells": [
  {
   "cell_type": "markdown",
   "metadata": {},
   "source": [
    "Inspired by \"reading backwards\" and other Examples and Experiments in...\n",
    "\n",
    "- Samuels, L., and McGann, J.J. 1999. “Deformance and Interpretation.” New Literary History 30 (1): 25–56. doi:10.1353/nlh.1999.0010.\n",
    "\n",
    "See also...\n",
    "\n",
    "- Rougeux, N. 2023. “Between the Words: Exploring the Punctuation in Literary Classics.” C82: Works of Nicholas Rougeux. https://www.c82.net/work/?id=347.\n"
   ]
  },
  {
   "cell_type": "code",
   "execution_count": null,
   "metadata": {},
   "outputs": [],
   "source": [
    "# Imports\n",
    "\n",
    "from cltkreaders.lat import LatinTesseraeCorpusReader\n",
    "from pprint import pprint"
   ]
  },
  {
   "attachments": {},
   "cell_type": "markdown",
   "metadata": {},
   "source": [
    "## Deforming Catullus"
   ]
  },
  {
   "cell_type": "code",
   "execution_count": null,
   "metadata": {},
   "outputs": [],
   "source": [
    "# Load corpus reader and select 'Catullus' files\n",
    "\n",
    "T = LatinTesseraeCorpusReader()\n",
    "catullus = [file for file in T.fileids() if 'catullus' in file]"
   ]
  },
  {
   "cell_type": "code",
   "execution_count": null,
   "metadata": {},
   "outputs": [],
   "source": [
    "# Show text as it appears in file\n",
    "\n",
    "print(T.raw(catullus)[:490])"
   ]
  },
  {
   "cell_type": "code",
   "execution_count": null,
   "metadata": {},
   "outputs": [],
   "source": [
    "# Split raw text into individual poems\n",
    "\n",
    "poems = T.raw(catullus).strip().split('\\n\\n')\n",
    "pprint(poems[0])"
   ]
  },
  {
   "cell_type": "code",
   "execution_count": null,
   "metadata": {},
   "outputs": [],
   "source": [
    "# Get index of poem numbers using regular expressions\n",
    "\n",
    "import re\n",
    "poem_nos = [re.match(r'<cat\\. (\\d+\\w?)\\.\\d+>', poem).group(1) for poem in poems]\n",
    "print(poem_nos)"
   ]
  },
  {
   "attachments": {},
   "cell_type": "markdown",
   "metadata": {},
   "source": [
    "## Reading backwards"
   ]
  },
  {
   "cell_type": "code",
   "execution_count": null,
   "metadata": {},
   "outputs": [],
   "source": [
    "# Look at poem 85\n",
    "\n",
    "poem_85 = poems[85]\n",
    "print(poem_85)"
   ]
  },
  {
   "cell_type": "code",
   "execution_count": null,
   "metadata": {},
   "outputs": [],
   "source": [
    "# Look at poem 85 with pprint\n",
    "\n",
    "pprint(poem_85)"
   ]
  },
  {
   "cell_type": "code",
   "execution_count": null,
   "metadata": {},
   "outputs": [],
   "source": [
    "# Split poem into lines\n",
    "\n",
    "lines_85 = []\n",
    "\n",
    "lines = poem_85.split('\\n')\n",
    "\n",
    "print(lines)"
   ]
  },
  {
   "cell_type": "code",
   "execution_count": null,
   "metadata": {},
   "outputs": [],
   "source": [
    "# Split lines into citation and text; keep only text\n",
    "\n",
    "text_lines = [line.split('\\t')[1] for line in lines]\n",
    "print(text_lines)"
   ]
  },
  {
   "cell_type": "code",
   "execution_count": null,
   "metadata": {},
   "outputs": [],
   "source": [
    "# Reverse the lines of a poem\n",
    "\n",
    "reversed_text_lines = reversed(text_lines)\n",
    "reversed_text = '\\n'.join(reversed_text_lines)\n",
    "print(reversed_text)"
   ]
  },
  {
   "cell_type": "code",
   "execution_count": null,
   "metadata": {},
   "outputs": [],
   "source": [
    "# Exercise some editorial discretion...\n",
    "\n",
    "reversed_text_edition = reversed_text[0].upper() + reversed_text[1:].replace('odi', 'Odi') + '?'\n",
    "print(reversed_text_edition)\n"
   ]
  },
  {
   "attachments": {},
   "cell_type": "markdown",
   "metadata": {},
   "source": [
    "## Punctuation Poetry"
   ]
  },
  {
   "cell_type": "code",
   "execution_count": null,
   "metadata": {},
   "outputs": [],
   "source": [
    "# Helper function to extract poem text\n",
    "\n",
    "def get_poem_text(poem):\n",
    "    lines = poem.split('\\n')\n",
    "    text_lines = [line.split('\\t')[1] for line in lines]\n",
    "    return '\\n'.join(text_lines)\n",
    "\n",
    "poem_85_text = get_poem_text(poems[85])\n",
    "    \n",
    "print(poem_85_text)"
   ]
  },
  {
   "cell_type": "code",
   "execution_count": null,
   "metadata": {},
   "outputs": [],
   "source": [
    "# Remove all spaces from poem\n",
    "\n",
    "poem_85_spaceless = ''.join(poem_85_text.split())\n",
    "print(poem_85_spaceless)"
   ]
  },
  {
   "cell_type": "code",
   "execution_count": null,
   "metadata": {},
   "outputs": [],
   "source": [
    "# Remove all letters from poem\n",
    "\n",
    "poem_85_letterless = ''.join([char for char in poem_85_text if not char.isalpha()])\n",
    "print(poem_85_letterless)"
   ]
  },
  {
   "cell_type": "code",
   "execution_count": null,
   "metadata": {},
   "outputs": [],
   "source": [
    "# Helper function to remove all spaces and letters (or conversely to leave only punctuation)\n",
    "\n",
    "def leave_punctuation(poem):\n",
    "    poem = ''.join(poem.split())\n",
    "    return [char for char in poem if not char.isalpha()]\n",
    "\n",
    "print(leave_punctuation(poem_85_text))"
   ]
  },
  {
   "cell_type": "code",
   "execution_count": null,
   "metadata": {},
   "outputs": [],
   "source": [
    "# Iterate over all of the poems to get a list of punctuation-only poems\n",
    "\n",
    "punc_poems = [\"\".join(leave_punctuation(get_poem_text(poem))) for poem in poems]\n",
    "\n",
    "# Note that this is the same as...\n",
    "\n",
    "punc_poems = [get_poem_text(poem) for poem in poems]\n",
    "punc_poems = [leave_punctuation(poem) for poem in punc_poems]\n",
    "punc_poems = [\"\".join(poem) for poem in punc_poems]\n",
    "\n",
    "print(punc_poems[:5])"
   ]
  },
  {
   "cell_type": "code",
   "execution_count": null,
   "metadata": {},
   "outputs": [],
   "source": [
    "# Write each punctuation poem with its citation to a txt file\n",
    "\n",
    "with open('../output/catullus_punc_poems.txt', 'w') as f:\n",
    "    for citation, poem in zip(poem_nos, punc_poems):\n",
    "        f.write(f'{citation}: {poem}\\n')"
   ]
  },
  {
   "cell_type": "code",
   "execution_count": null,
   "metadata": {},
   "outputs": [],
   "source": [
    "# As above, but with sorting each punctuation poem before writing\n",
    "\n",
    "with open('../output/catullus_sorted_punc_poems.txt', 'w') as f:\n",
    "    for citation, poem in zip(poem_nos, punc_poems):\n",
    "        f.write(f'{citation}: {\"\".join(sorted(poem))}\\n')"
   ]
  },
  {
   "cell_type": "code",
   "execution_count": null,
   "metadata": {},
   "outputs": [],
   "source": [
    "# Write all of the punctuation poems consecutively as if one large punctuation poem\n",
    "\n",
    "punc_poems_running = []\n",
    "for poem in punc_poems:\n",
    "    punc_poems_running.append(poem)\n",
    "punc_poems_all = ''.join(punc_poems_running)\n",
    "\n",
    "with open('../output/catullus_punc.txt', 'w') as f:\n",
    "    f.write(''.join(punc_poems_all))"
   ]
  },
  {
   "cell_type": "code",
   "execution_count": null,
   "metadata": {},
   "outputs": [],
   "source": [
    "# Write all of the punctuation poems consecutively as if one large punctuation poem; alternate regex approach\n",
    "\n",
    "catullus_text = next(T.texts(catullus))\n",
    "catullus_text_no_letters = re.sub(r'[\\w\\s]', '', catullus_text)\n",
    "print(catullus_text_no_letters)"
   ]
  },
  {
   "attachments": {},
   "cell_type": "markdown",
   "metadata": {},
   "source": [
    "## Verbing Vergil"
   ]
  },
  {
   "cell_type": "code",
   "execution_count": null,
   "metadata": {},
   "outputs": [],
   "source": [
    "# Get text of Aeneid 1\n",
    "\n",
    "aen_1 = 'vergil.aeneid.part.1.tess'\n",
    "print(next(T.texts(aen_1))[:315])"
   ]
  },
  {
   "cell_type": "code",
   "execution_count": null,
   "metadata": {},
   "outputs": [],
   "source": [
    "# Get the first pos-tagged sentence in the Aeneid\n",
    "# NB: POS-tagging is work in progress!\n",
    "\n",
    "pos_sents = T.pos_sents(aen_1)\n",
    "sent_1 = next(pos_sents)\n",
    "sent_2 = next(pos_sents)\n",
    "virgil_pos_sents = sent_1 + sent_2"
   ]
  },
  {
   "cell_type": "code",
   "execution_count": null,
   "metadata": {},
   "outputs": [],
   "source": [
    "print(T.raw(aen_1)[:433])"
   ]
  },
  {
   "cell_type": "code",
   "execution_count": null,
   "metadata": {},
   "outputs": [],
   "source": [
    "# Recompose lines\n",
    "\n",
    "indices = [(0, 10), (10, 18), (18, 27), (27, 35), (35, 45), (45, 54), (54, len(virgil_pos_sents))]\n",
    "\n",
    "virgil_pos_lines = [virgil_pos_sents[s:e] for s,e in indices] # cf. https://stackoverflow.com/a/18571043\n",
    "\n",
    "for line in virgil_pos_lines:\n",
    "    print(line)"
   ]
  },
  {
   "cell_type": "code",
   "execution_count": null,
   "metadata": {},
   "outputs": [],
   "source": [
    "# Remove non-verbs by looping through lines, checking pos tag, and keeping matches\n",
    "\n",
    "verb_lines = []\n",
    "\n",
    "for line in virgil_pos_lines:\n",
    "    pairs = [ ]\n",
    "    for pair in line:\n",
    "        word, pos = pair.split('/')\n",
    "        if pos == 'VERB':\n",
    "            pairs.append(word)\n",
    "        else:\n",
    "            pairs.append('     ')\n",
    "    verb_lines.append(pairs)\n",
    "\n",
    "print(verb_lines)"
   ]
  },
  {
   "cell_type": "code",
   "execution_count": null,
   "metadata": {},
   "outputs": [],
   "source": [
    "# Make verb-only poem\n",
    "\n",
    "for line in verb_lines:\n",
    "    print(\" \".join(line))"
   ]
  },
  {
   "cell_type": "code",
   "execution_count": null,
   "metadata": {},
   "outputs": [],
   "source": [
    "virgil_pos_lines[0][3] = 'cano/VERB'\n",
    "virgil_pos_lines[1][2] = 'fato/NOUN'"
   ]
  },
  {
   "cell_type": "code",
   "execution_count": null,
   "metadata": {},
   "outputs": [],
   "source": [
    "verb_lines = []\n",
    "\n",
    "for line in virgil_pos_lines:\n",
    "    pairs = [ ]\n",
    "    for pair in line:\n",
    "        word, pos = pair.split('/')\n",
    "        if pos == 'VERB':\n",
    "            pairs.append(word)\n",
    "        else:\n",
    "            pairs.append('     ')\n",
    "    verb_lines.append(pairs)\n",
    "\n",
    "for line in verb_lines:\n",
    "    print(\" \".join(line))"
   ]
  }
 ],
 "metadata": {
  "interpreter": {
   "hash": "f28f2655caa070e39b75c186f98b8f52da1af34bdb8dab0b58a93e2439370a2a"
  },
  "kernelspec": {
   "display_name": "Python 3.8.12 64-bit ('stanford')",
   "language": "python",
   "name": "python3"
  },
  "language_info": {
   "codemirror_mode": {
    "name": "ipython",
    "version": 3
   },
   "file_extension": ".py",
   "mimetype": "text/x-python",
   "name": "python",
   "nbconvert_exporter": "python",
   "pygments_lexer": "ipython3",
   "version": "3.10.8"
  },
  "orig_nbformat": 4
 },
 "nbformat": 4,
 "nbformat_minor": 2
}

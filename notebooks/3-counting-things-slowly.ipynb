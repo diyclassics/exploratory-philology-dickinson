{
 "cells": [
  {
   "cell_type": "code",
   "execution_count": null,
   "metadata": {},
   "outputs": [],
   "source": [
    "# Imports\n",
    "\n",
    "from cltkreaders.lat import LatinTesseraeCorpusReader\n",
    "import string\n",
    "from collections import defaultdict\n",
    "from pprint import pprint\n",
    "import pickle\n",
    "\n",
    "# Imports; for plotting\n",
    "\n",
    "import seaborn as sns\n",
    "import matplotlib.pyplot as plt\n",
    "pal = sns.color_palette(\"colorblind\")"
   ]
  },
  {
   "cell_type": "code",
   "execution_count": null,
   "metadata": {},
   "outputs": [],
   "source": [
    "# Setup corpus\n",
    "\n",
    "T = LatinTesseraeCorpusReader()"
   ]
  },
  {
   "cell_type": "code",
   "execution_count": null,
   "metadata": {},
   "outputs": [],
   "source": [
    "# Set constant\n",
    "\n",
    "TERM = 'orbis'"
   ]
  },
  {
   "cell_type": "code",
   "execution_count": null,
   "metadata": {},
   "outputs": [],
   "source": [
    "# Collect matches in all texts\n",
    "\n",
    "term_counts = defaultdict(int)\n",
    "\n",
    "for file in T.fileids():\n",
    "    lines = next(T.doc_rows(file))\n",
    "    lines = list(lines.items())\n",
    "    for citation, line in lines:\n",
    "        line = line.split()\n",
    "        if TERM in line:\n",
    "            pprint(line)\n",
    "            term_counts[file] += 1\n",
    "            break\n",
    "    break"
   ]
  },
  {
   "cell_type": "code",
   "execution_count": null,
   "metadata": {},
   "outputs": [],
   "source": [
    "print('et' in \"Et tu, Brute.\")\n",
    "print('tu' in \"Et tu, Brute\".split())"
   ]
  },
  {
   "cell_type": "code",
   "execution_count": null,
   "metadata": {},
   "outputs": [],
   "source": [
    "def preprocess(text):\n",
    "\n",
    "    # remove punctuation\n",
    "    puncs = string.punctuation\n",
    "    for punc in puncs:\n",
    "        text = text.replace(punc, ' ')\n",
    "    \n",
    "    # lower case \n",
    "    text = text.lower()\n",
    "\n",
    "    return text"
   ]
  },
  {
   "cell_type": "code",
   "execution_count": null,
   "metadata": {},
   "outputs": [],
   "source": [
    "# Collect matches in all texts with preprocessing\n",
    "\n",
    "term_counts = defaultdict(int)\n",
    "\n",
    "for file in T.fileids():\n",
    "    lines = next(T.doc_rows(file))\n",
    "    lines = list(lines.items())\n",
    "    for citation, line in lines:\n",
    "        line = preprocess(line)\n",
    "        line = line.split()\n",
    "        if TERM in line:\n",
    "            term_counts[file] += 1\n",
    "        else:\n",
    "            term_counts[file] += 0"
   ]
  },
  {
   "cell_type": "code",
   "execution_count": null,
   "metadata": {},
   "outputs": [],
   "source": [
    "# Show sample\n",
    "\n",
    "print(f'The first five {TERM} counts are:\\n{list(term_counts.items())[:5]}')"
   ]
  },
  {
   "cell_type": "code",
   "execution_count": null,
   "metadata": {},
   "outputs": [],
   "source": [
    "# Make barplot of counts\n",
    "\n",
    "keys = list(term_counts.keys())\n",
    "vals = list(term_counts.values())\n",
    "\n",
    "plt.figure(figsize=(32, 8))\n",
    "ax = sns.barplot(x=keys, y=vals, palette=pal);\n",
    "plt.title(f'\"{TERM}\" raw counts in Latin Tesserae',fontsize=36)\n",
    "plt.xlabel('Works', fontsize=24)\n",
    "plt.ylabel('Count', fontsize=24)\n",
    "ax.set_xticklabels(labels=keys, rotation=90, fontsize=12);\n",
    "plt.show()"
   ]
  },
  {
   "cell_type": "code",
   "execution_count": null,
   "metadata": {},
   "outputs": [],
   "source": [
    "# Get detail of barplot, only left 50\n",
    "\n",
    "term_counts_sorted_left = dict(sorted(list(term_counts.items()), key=lambda x: x[1], reverse=True)[:50])\n",
    "keys = list(term_counts_sorted_left.keys())\n",
    "vals = list(term_counts_sorted_left.values())\n",
    "\n",
    "plt.figure(figsize=(32, 8))\n",
    "ax = sns.barplot(x=keys, y=vals, palette=pal);\n",
    "plt.title(f'\"{TERM}\" raw counts in Latin Tesserae',fontsize=36)\n",
    "plt.xlabel('Works', fontsize=24)\n",
    "plt.ylabel('Count', fontsize=24)\n",
    "ax.set_xticklabels(labels=keys, rotation=45, horizontalalignment='right', fontsize=18);\n",
    "plt.show()"
   ]
  },
  {
   "cell_type": "code",
   "execution_count": null,
   "metadata": {},
   "outputs": [],
   "source": [
    "# Get word counts for all texts\n",
    "# MB: Cached, takes about ~2-3 min. to run\n",
    "\n",
    "# word_counts = defaultdict(int)\n",
    "\n",
    "# for file in T.fileids():\n",
    "#     word_count = len(list(T.words(file)))\n",
    "#     word_counts[file] = word_count\n",
    "\n",
    "# pickle.dump(word_counts, open('../data/latin_word_counts.pickle', 'wb'))\n",
    "\n",
    "word_counts = pickle.load(open('../data/latin_word_counts.pickle', 'rb'))\n"
   ]
  },
  {
   "cell_type": "code",
   "execution_count": null,
   "metadata": {},
   "outputs": [],
   "source": [
    "# Compare lists\n",
    "\n",
    "pprint(list(word_counts.items())[:5])\n",
    "print()\n",
    "pprint(list(term_counts.items())[:5])"
   ]
  },
  {
   "cell_type": "code",
   "execution_count": null,
   "metadata": {},
   "outputs": [],
   "source": [
    "# Workflow for normalizing\n",
    "\n",
    "for i, item in enumerate(term_counts.items()):\n",
    "    text = item[0]\n",
    "    print(text)\n",
    "    term_count = item[1]\n",
    "    print(f'{TERM} appears {term_count} times...')\n",
    "    word_count = list(word_counts.values())[i]\n",
    "    print(f'...in {word_count} total words')\n",
    "    norm_count = (term_count / word_count) * 1000\n",
    "    print(f'The normalized count is {round(norm_count, 3)} per 1000 words')\n",
    "    break"
   ]
  },
  {
   "cell_type": "code",
   "execution_count": null,
   "metadata": {},
   "outputs": [],
   "source": [
    "# Normalize counts\n",
    "\n",
    "term_norm_counts = defaultdict(float)\n",
    "\n",
    "for i, item in enumerate(term_counts.items()):\n",
    "    text = item[0]\n",
    "    term_count = item[1]\n",
    "    word_count = list(word_counts.values())[i]\n",
    "    norm_count = (term_count / word_count) * 1000\n",
    "    term_norm_counts[text] = norm_count"
   ]
  },
  {
   "cell_type": "code",
   "execution_count": null,
   "metadata": {},
   "outputs": [],
   "source": [
    "# Make bar plot of normalized data\n",
    "\n",
    "term_norm_counts_sorted = dict(sorted(list(term_norm_counts.items()), key=lambda x: x[1], reverse=True)[:50])\n",
    "keys = list(term_norm_counts_sorted.keys())\n",
    "vals = list(term_norm_counts_sorted.values())\n",
    "\n",
    "plt.figure(figsize=(32, 8))\n",
    "ax = sns.barplot(x=keys, y=vals, palette=pal);\n",
    "plt.title(f'\"{TERM}\" normalized counts in Latin Tesserae (top 50)',fontsize=36)\n",
    "plt.xlabel('Works', fontsize=24)\n",
    "plt.ylabel('Count', fontsize=24)\n",
    "ax.set_xticklabels(labels=keys, rotation=75, horizontalalignment='right', fontsize=18);\n",
    "plt.show()"
   ]
  },
  {
   "cell_type": "code",
   "execution_count": null,
   "metadata": {},
   "outputs": [],
   "source": [
    "# Check!\n",
    "\n",
    "print(next(T.texts('horace.carmen_saeculare.tess')))\n",
    "print()\n",
    "\n",
    "for i, item in enumerate(term_counts.items()):\n",
    "    text = item[0]\n",
    "    term_count = item[1]\n",
    "    word_count = list(word_counts.values())[i]\n",
    "    if 'horace.carmen_saeculare' in text:\n",
    "        print(text)\n",
    "        print(term_count)\n",
    "        print(word_count)\n",
    "        print(term_count/word_count)\n",
    "        print((term_count/word_count) * 1000)"
   ]
  },
  {
   "cell_type": "code",
   "execution_count": null,
   "metadata": {},
   "outputs": [],
   "source": [
    "# Make bar plot of normalized data\n",
    "\n",
    "term_norm_counts_sorted = dict(sorted(list(term_norm_counts.items()), key=lambda x: x[1], reverse=True)[-50:])\n",
    "\n",
    "keys = list(term_norm_counts_sorted.keys())\n",
    "vals = list(term_norm_counts_sorted.values())\n",
    "\n",
    "plt.figure(figsize=(32, 8))\n",
    "ax = sns.barplot(x=keys, y=vals, palette=pal);\n",
    "plt.title(f'\"{TERM}\" normalized counts in Latin Tesserae (bottom 50)',fontsize=36)\n",
    "plt.xlabel('Works', fontsize=24)\n",
    "plt.ylabel('Count', fontsize=24)\n",
    "ax.set_xticklabels(labels=keys, rotation=75, horizontalalignment='right', fontsize=18);\n",
    "plt.show()"
   ]
  },
  {
   "cell_type": "code",
   "execution_count": null,
   "metadata": {},
   "outputs": [],
   "source": [
    "# Make bar plot of normalized data\n",
    "\n",
    "term_norm_counts = {k: v for k, v in term_norm_counts.items() if v > 0}\n",
    "term_norm_counts_sorted = dict(sorted(list(term_norm_counts.items()), key=lambda x: x[1], reverse=True)[-50:])\n",
    "\n",
    "keys = list(term_norm_counts_sorted.keys())\n",
    "vals = list(term_norm_counts_sorted.values())\n",
    "\n",
    "plt.figure(figsize=(32, 8))\n",
    "ax = sns.barplot(x=keys, y=vals, palette=pal);\n",
    "plt.title(f'\"{TERM}\" normalized counts in Latin Tesserae (bottom 50)',fontsize=36)\n",
    "plt.xlabel('Works', fontsize=24)\n",
    "plt.ylabel('Count', fontsize=24)\n",
    "ax.set_xticklabels(labels=keys, rotation=75, horizontalalignment='right', fontsize=18);\n",
    "plt.show()"
   ]
  }
 ],
 "metadata": {
  "kernelspec": {
   "display_name": "Python 3.8.12 64-bit ('rostock-workshop')",
   "language": "python",
   "name": "python3"
  },
  "language_info": {
   "codemirror_mode": {
    "name": "ipython",
    "version": 3
   },
   "file_extension": ".py",
   "mimetype": "text/x-python",
   "name": "python",
   "nbconvert_exporter": "python",
   "pygments_lexer": "ipython3",
   "version": "3.10.8"
  },
  "orig_nbformat": 4,
  "vscode": {
   "interpreter": {
    "hash": "271717606410ac57bb3ccde2581fc7e1f6e46ce9d2d102e43e700f6187669d78"
   }
  }
 },
 "nbformat": 4,
 "nbformat_minor": 2
}

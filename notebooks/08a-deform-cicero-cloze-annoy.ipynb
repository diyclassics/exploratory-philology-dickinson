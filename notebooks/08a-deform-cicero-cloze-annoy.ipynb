{
 "cells": [
  {
   "attachments": {},
   "cell_type": "markdown",
   "metadata": {},
   "source": [
    "# Describe: Creating 'cloze' exercises with Cicero (with vector semantics)"
   ]
  },
  {
   "cell_type": "code",
   "execution_count": null,
   "metadata": {},
   "outputs": [],
   "source": [
    "from natsort import natsorted\n",
    "from pprint import pprint\n",
    "from latintools import preprocess\n",
    "import random"
   ]
  },
  {
   "cell_type": "code",
   "execution_count": null,
   "metadata": {},
   "outputs": [],
   "source": [
    "from cltkreaders.lat import LatinTesseraeCorpusReader\n",
    "\n",
    "T = LatinTesseraeCorpusReader()\n",
    "\n",
    "cicero = natsorted([fileid for fileid in T.fileids() if 'de_finibus' in fileid])\n",
    "pprint(cicero[:10])"
   ]
  },
  {
   "cell_type": "code",
   "execution_count": null,
   "metadata": {},
   "outputs": [],
   "source": [
    "def custom_preprocess(text):\n",
    "    text = preprocess(text, punctuation=True)\n",
    "    return text\n",
    "\n",
    "import spacy\n",
    "nlp = spacy.load('la_core_web_md')\n",
    "text = next(T.texts(cicero, preprocess=custom_preprocess))\n",
    "doc = nlp(text)"
   ]
  },
  {
   "cell_type": "code",
   "execution_count": null,
   "metadata": {},
   "outputs": [],
   "source": [
    "import numpy as np\n",
    "\n",
    "data = {}\n",
    "data['name'] = np.array([item.text for item in nlp.vocab])\n",
    "data['vector'] = np.array([item.vector for item in nlp.vocab])"
   ]
  },
  {
   "cell_type": "code",
   "execution_count": null,
   "metadata": {},
   "outputs": [],
   "source": [
    "from annoytools import AnnoyIndex\n",
    "index = AnnoyIndex(data[\"vector\"], data[\"name\"])\n",
    "index.build()"
   ]
  },
  {
   "cell_type": "code",
   "execution_count": null,
   "metadata": {},
   "outputs": [],
   "source": [
    "def get_word_idx(word):\n",
    "    try:\n",
    "        return data[\"name\"].tolist().index(word)\n",
    "    except:\n",
    "        return None\n",
    "\n",
    "word = 'nam'\n",
    "word_idx = get_word_idx(word)\n",
    "print(word_idx)"
   ]
  },
  {
   "cell_type": "code",
   "execution_count": null,
   "metadata": {},
   "outputs": [],
   "source": [
    "query = index.query(data[\"vector\"][word_idx], k=25)\n",
    "\n",
    "results = []\n",
    "\n",
    "for i, q in enumerate(query, 0):\n",
    "    results.append(q)\n",
    "\n",
    "print(results)\n"
   ]
  },
  {
   "cell_type": "code",
   "execution_count": null,
   "metadata": {},
   "outputs": [],
   "source": [
    "sents = [sent for sent in doc.sents if len(sent) > 10 and len(sent) < 25]"
   ]
  },
  {
   "cell_type": "code",
   "execution_count": null,
   "metadata": {},
   "outputs": [],
   "source": [
    "test_sent = sents[2]\n",
    "print(test_sent)"
   ]
  },
  {
   "cell_type": "code",
   "execution_count": null,
   "metadata": {},
   "outputs": [],
   "source": [
    "def create_cloze_(sent, seed=3):\n",
    "    random.seed(seed)\n",
    "    sent = sent.as_doc()\n",
    "    remove_options = [token.i for token in sent if token.is_alpha]\n",
    "    remove_choice = random.choice(remove_options)\n",
    "    cloze = ' '.join([token.text if token.i != remove_choice else '_____' for token in sent])\n",
    "    return sent, cloze, sent[remove_choice].text\n",
    "\n",
    "pprint(create_cloze_(test_sent))"
   ]
  },
  {
   "cell_type": "code",
   "execution_count": null,
   "metadata": {},
   "outputs": [],
   "source": [
    "original, cloze, mask = create_cloze_(test_sent)"
   ]
  },
  {
   "cell_type": "code",
   "execution_count": null,
   "metadata": {},
   "outputs": [],
   "source": [
    "mask_idx = get_word_idx(mask)\n",
    "print(mask)\n",
    "print(mask_idx)\n",
    "print(data[\"vector\"][mask_idx])"
   ]
  },
  {
   "cell_type": "code",
   "execution_count": null,
   "metadata": {},
   "outputs": [],
   "source": [
    "query = index.query(data[\"vector\"][mask_idx], k=1000)\n",
    "\n",
    "results = []\n",
    "\n",
    "for i, q in enumerate(query, 0):\n",
    "    results.append(q)"
   ]
  },
  {
   "cell_type": "code",
   "execution_count": null,
   "metadata": {},
   "outputs": [],
   "source": [
    "for i, result in enumerate(results[:10], 0):\n",
    "    print(i, result)"
   ]
  },
  {
   "cell_type": "code",
   "execution_count": null,
   "metadata": {},
   "outputs": [],
   "source": [
    "answer = mask\n",
    "random.seed(1)\n",
    "close_wrong_answer = random.sample(results[1:3],1)\n",
    "closish_wrong_answer = random.sample(results[10:20],1)\n",
    "far_wrong_answer = random.sample(results[-10:],1)\n",
    "answer_list = [answer] + close_wrong_answer + closish_wrong_answer + far_wrong_answer\n",
    "print(answer_list)"
   ]
  },
  {
   "cell_type": "code",
   "execution_count": null,
   "metadata": {},
   "outputs": [],
   "source": [
    "print(original)"
   ]
  },
  {
   "cell_type": "code",
   "execution_count": null,
   "metadata": {},
   "outputs": [],
   "source": [
    "print(cloze)"
   ]
  },
  {
   "cell_type": "code",
   "execution_count": null,
   "metadata": {},
   "outputs": [],
   "source": [
    "# scramble list\n",
    "random.shuffle(answer_list)\n",
    "print(answer_list)"
   ]
  }
 ],
 "metadata": {
  "kernelspec": {
   "display_name": "Python 3.10.8 64-bit ('exploratory-philology')",
   "language": "python",
   "name": "python3"
  },
  "language_info": {
   "codemirror_mode": {
    "name": "ipython",
    "version": 3
   },
   "file_extension": ".py",
   "mimetype": "text/x-python",
   "name": "python",
   "nbconvert_exporter": "python",
   "pygments_lexer": "ipython3",
   "version": "3.10.8"
  },
  "vscode": {
   "interpreter": {
    "hash": "90f29fce041a746dff5b4e7dc43fcbd6facb181eb5d3b96918a0244a9c00c3c6"
   }
  }
 },
 "nbformat": 4,
 "nbformat_minor": 2
}
